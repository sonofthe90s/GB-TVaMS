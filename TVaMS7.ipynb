{
 "cells": [
  {
   "cell_type": "markdown",
   "metadata": {},
   "source": [
    "1. Даны значения величины заработной платы заемщиков банка (zp)\n",
    "и значения их поведенческого кредитного скоринга (ks): \n",
    "zp = [35, 45, 190, 200, 40, 70, 54, 150, 120, 110], \n",
    "ks = [401, 574, 874, 919, 459, 739, 653, 902, 746, 832]. \n",
    "Используя математические операции, посчитать коэффициенты линейной регрессии, \n",
    "приняв за X заработную плату (то есть, zp - признак), \n",
    "а за y - значения скорингового балла (то есть, ks - целевая переменная). \n",
    "Произвести расчет как с использованием intercept, так и без."
   ]
  },
  {
   "cell_type": "code",
   "execution_count": 1,
   "metadata": {},
   "outputs": [],
   "source": [
    "import numpy as np\n",
    "import pandas as pd"
   ]
  },
  {
   "cell_type": "code",
   "execution_count": 2,
   "metadata": {},
   "outputs": [],
   "source": [
    "zp = np.array([35,45,190,200,40,70,54,150,120,110], dtype=np.float64)\n",
    "ks = np.array([401,574,874,919,459,739,653,902,746,832], dtype=np.float64)\n",
    "x = zp\n",
    "y = ks"
   ]
  },
  {
   "cell_type": "code",
   "execution_count": 3,
   "metadata": {},
   "outputs": [],
   "source": [
    "#Без использования intercept:\n",
    "b_1 = np.sum(x * y) / np.sum(x * x)"
   ]
  },
  {
   "cell_type": "code",
   "execution_count": 4,
   "metadata": {},
   "outputs": [],
   "source": [
    "#С использованием intercept:\n",
    "b_2 = (np.mean(x * y) - np.mean(x) * np.mean(y)) / (np.mean(x**2) - np.mean(x) ** 2)"
   ]
  },
  {
   "cell_type": "markdown",
   "metadata": {},
   "source": [
    "2. Посчитать коэффициент линейной регрессии при заработной плате (zp), используя градиентный спуск (без intercept)."
   ]
  },
  {
   "cell_type": "code",
   "execution_count": 5,
   "metadata": {},
   "outputs": [],
   "source": [
    "n = len(x)\n",
    "alpha = 1e-6\n",
    "B1 = 0.1"
   ]
  },
  {
   "cell_type": "code",
   "execution_count": 6,
   "metadata": {},
   "outputs": [],
   "source": [
    "def mse_(B1,y=y,x=x,n=n):\n",
    "    return np.sum((B1 * x - y)**2) / n"
   ]
  },
  {
   "cell_type": "code",
   "execution_count": 7,
   "metadata": {},
   "outputs": [
    {
     "name": "stdout",
     "output_type": "stream",
     "text": [
      "Iteration: 0, B1 = 0.25952808, MSE = 493237.7212546963\n",
      "Iteration: 10, B1 = 1.6319792141937546, MSE = 306275.7568040035\n",
      "Iteration: 20, B1 = 2.6698789606516935, MSE = 199352.96411174876\n",
      "Iteration: 30, B1 = 3.4547782236263824, MSE = 138204.25062502263\n",
      "Iteration: 40, B1 = 4.04834889855975, MSE = 103233.54824312925\n",
      "Iteration: 50, B1 = 4.497229618367758, MSE = 83233.94472982832\n",
      "Iteration: 60, B1 = 4.836690291080364, MSE = 71796.25222021657\n",
      "Iteration: 70, B1 = 5.093403362579137, MSE = 65255.0820486468\n",
      "Iteration: 80, B1 = 5.287539550879594, MSE = 61514.21323463749\n",
      "Iteration: 90, B1 = 5.434352720103083, MSE = 59374.825462025976\n",
      "Iteration: 100, B1 = 5.54537842245223, MSE = 58151.31823171113\n",
      "Iteration: 110, B1 = 5.629340281237233, MSE = 57451.59938606899\n",
      "Iteration: 120, B1 = 5.692835432193034, MSE = 57051.433003054815\n",
      "Iteration: 130, B1 = 5.740852880272922, MSE = 56822.57946410561\n",
      "Iteration: 140, B1 = 5.777165500770666, MSE = 56691.69904907657\n",
      "Iteration: 150, B1 = 5.804626485478126, MSE = 56616.849068093856\n",
      "Iteration: 160, B1 = 5.825393526544474, MSE = 56574.04266614384\n",
      "Iteration: 170, B1 = 5.8410983528369655, MSE = 56549.561857680776\n",
      "Iteration: 180, B1 = 5.852974939784972, MSE = 56535.56138215128\n",
      "Iteration: 190, B1 = 5.861956466540286, MSE = 56527.55456671675\n",
      "Iteration: 200, B1 = 5.868748638669329, MSE = 56522.97550129376\n",
      "Iteration: 210, B1 = 5.873885137561711, MSE = 56520.35675226433\n",
      "Iteration: 220, B1 = 5.877769553381888, MSE = 56518.85910026643\n",
      "Iteration: 230, B1 = 5.880707096362074, MSE = 56518.00259913497\n",
      "Iteration: 240, B1 = 5.882928578088004, MSE = 56517.512769595625\n",
      "Iteration: 250, B1 = 5.884608547059329, MSE = 56517.232638059555\n",
      "Iteration: 260, B1 = 5.885879003490128, MSE = 56517.072431964974\n",
      "Iteration: 270, B1 = 5.8868397709626885, MSE = 56516.98081074626\n",
      "Iteration: 280, B1 = 5.887566339866551, MSE = 56516.928412941146\n",
      "Iteration: 290, B1 = 5.888115798905433, MSE = 56516.89844684794\n"
     ]
    }
   ],
   "source": [
    "for i in range(300):\n",
    "    B1 -= alpha * (2 / n) * np.sum((B1 * x - y) * x)\n",
    "    if i % 10 == 0:\n",
    "        print(f'Iteration: {i}, B1 = {B1}, MSE = {mse_(B1)}')"
   ]
  },
  {
   "cell_type": "markdown",
   "metadata": {},
   "source": [
    "3. В каких случаях для вычисления доверительных интервалов и \n",
    "проверки статистических гипотез используется таблица значений функции Лапласа, \n",
    "а в каких - таблица критических точек распределения Стьюдента?"
   ]
  },
  {
   "cell_type": "markdown",
   "metadata": {},
   "source": [
    "Мы используем таблицу значений функции Лапласа в тех случаях, когда нам известна дисперсия и среднеквадратичное отклонение генеральной совокупности (сигма), а когда дисперсия генеральной совокупности неизвестна - используется таблица критических точек распределения Стьюдента."
   ]
  }
 ],
 "metadata": {
  "kernelspec": {
   "display_name": "Python 3",
   "language": "python",
   "name": "python3"
  },
  "language_info": {
   "codemirror_mode": {
    "name": "ipython",
    "version": 3
   },
   "file_extension": ".py",
   "mimetype": "text/x-python",
   "name": "python",
   "nbconvert_exporter": "python",
   "pygments_lexer": "ipython3",
   "version": "3.7.6"
  }
 },
 "nbformat": 4,
 "nbformat_minor": 4
}
