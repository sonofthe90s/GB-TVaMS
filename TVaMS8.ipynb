{
 "cells": [
  {
   "cell_type": "markdown",
   "metadata": {},
   "source": [
    "Провести дисперсионный анализ для определения того, есть ли различия среднего роста среди взрослых футболистов, хоккеистов и штангистов. \n",
    "Даны значения роста в трех группах случайно выбранных спортсменов: \n",
    "Футболисты: 173, 175, 180, 178, 177, 185, 183, 182. \n",
    "Хоккеисты: 177, 179, 180, 188, 177, 172, 171, 184, 180. \n",
    "Штангисты: 172, 173, 169, 177, 166, 180, 178, 177, 172, 166, 170."
   ]
  },
  {
   "cell_type": "code",
   "execution_count": 1,
   "metadata": {},
   "outputs": [],
   "source": [
    "import numpy as np\n",
    "from scipy import stats"
   ]
  },
  {
   "cell_type": "code",
   "execution_count": 2,
   "metadata": {},
   "outputs": [
    {
     "name": "stdout",
     "output_type": "stream",
     "text": [
      "Общее количество наблюдений: 28\n"
     ]
    }
   ],
   "source": [
    "y1 = np.array([173, 175, 180, 178, 177, 185, 183, 182])\n",
    "y2 = np.array([177, 179, 180, 188, 177, 172, 171, 184, 180])\n",
    "y3 = np.array([172, 173, 169, 177, 166, 180, 178, 177, 172, 166, 170])\n",
    "n = len(y1) + len(y2) + len(y3)\n",
    "\n",
    "print(f'Общее количество наблюдений: {n}')"
   ]
  },
  {
   "cell_type": "code",
   "execution_count": 3,
   "metadata": {},
   "outputs": [
    {
     "name": "stdout",
     "output_type": "stream",
     "text": [
      "Среднее значение переменной Y на 1-м уровне: 179.125\n",
      "Среднее значение переменной Y на 2-м уровне: 178.66666666666666\n",
      "Среднее значение переменной Y на 3-м уровне: 172.72727272727272\n",
      "Среднее значение переменной Y по всем значениям: 176.46428571428572\n"
     ]
    }
   ],
   "source": [
    "y1_mean = np.mean(y1)\n",
    "y2_mean = np.mean(y2)\n",
    "y3_mean = np.mean(y3)\n",
    "y_mean = (y1_mean * len(y1) + y2_mean * len(y2) + y3_mean * len(y3)) / n\n",
    "\n",
    "print(f'Среднее значение переменной Y на 1-м уровне: {y1_mean}')\n",
    "print(f'Среднее значение переменной Y на 2-м уровне: {y2_mean}')\n",
    "print(f'Среднее значение переменной Y на 3-м уровне: {y3_mean}')\n",
    "print(f'Среднее значение переменной Y по всем значениям: {y_mean}')"
   ]
  },
  {
   "cell_type": "code",
   "execution_count": 4,
   "metadata": {},
   "outputs": [
    {
     "name": "stdout",
     "output_type": "stream",
     "text": [
      "Сумма квадратов отклонений средних групповых значений от общего среднего значения: 253.9074675324678\n"
     ]
    }
   ],
   "source": [
    "SF = len(y1) * (y1_mean - y_mean)**2 + len(y2) * (y2_mean - y_mean)**2 + len(y3) * (y3_mean - y_mean)**2 \n",
    "SO = ((y1 - y1_mean)**2).sum() + ((y2 - y2_mean)**2).sum() + ((y3 - y3_mean)**2).sum()\n",
    "\n",
    "print(f'Сумма квадратов отклонений средних групповых значений от общего среднего значения: {SF}')\n",
    "print(f'Остаточная сумма квадратов отклонений: {SO}')"
   ]
  },
  {
   "cell_type": "code",
   "execution_count": 6,
   "metadata": {},
   "outputs": [
    {
     "name": "stdout",
     "output_type": "stream",
     "text": [
      "Сумма квадратов отклонений наблюдений от общего среднего: 830.964285714286\n"
     ]
    }
   ],
   "source": [
    "S = SO + SF\n",
    "print(f'Сумма квадратов отклонений наблюдений от общего среднего: {S}')"
   ]
  },
  {
   "cell_type": "code",
   "execution_count": 7,
   "metadata": {},
   "outputs": [
    {
     "name": "stdout",
     "output_type": "stream",
     "text": [
      "Факторная дисперсия: 126.9537337662339\n"
     ]
    }
   ],
   "source": [
    "DF = SF / (3 - 1) \n",
    "print(f'Факторная дисперсия: {DF}')"
   ]
  },
  {
   "cell_type": "code",
   "execution_count": 8,
   "metadata": {},
   "outputs": [
    {
     "name": "stdout",
     "output_type": "stream",
     "text": [
      "Остаточная дисперсия: 23.08227272727273\n"
     ]
    }
   ],
   "source": [
    "DO = SO / (n - 3)\n",
    "print(f'Остаточная дисперсия: {DO}')"
   ]
  },
  {
   "cell_type": "code",
   "execution_count": 9,
   "metadata": {},
   "outputs": [
    {
     "name": "stdout",
     "output_type": "stream",
     "text": [
      "Критерий Фишера: 5.500053450812598\n"
     ]
    }
   ],
   "source": [
    "\n",
    "FH = DF / DO\n",
    "print(f'Критерий Фишера: {FH}')"
   ]
  },
  {
   "cell_type": "code",
   "execution_count": null,
   "metadata": {},
   "outputs": [],
   "source": []
  },
  {
   "cell_type": "code",
   "execution_count": null,
   "metadata": {},
   "outputs": [],
   "source": []
  }
 ],
 "metadata": {
  "kernelspec": {
   "display_name": "Python 3",
   "language": "python",
   "name": "python3"
  },
  "language_info": {
   "codemirror_mode": {
    "name": "ipython",
    "version": 3
   },
   "file_extension": ".py",
   "mimetype": "text/x-python",
   "name": "python",
   "nbconvert_exporter": "python",
   "pygments_lexer": "ipython3",
   "version": "3.7.6"
  }
 },
 "nbformat": 4,
 "nbformat_minor": 4
}
